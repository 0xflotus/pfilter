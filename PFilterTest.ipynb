{
 "cells": [
  {
   "cell_type": "code",
   "execution_count": 27,
   "metadata": {
    "collapsed": false
   },
   "outputs": [],
   "source": [
    "import pfilter\n",
    "pfilter = reload(pfilter)\n",
    "import numpy as np\n",
    "from scipy.stats import norm, gamma, uniform \n",
    "# testing only\n",
    "import skimage.draw\n",
    "import cv2\n",
    "\n",
    "\n",
    "\n",
    "def blob(x):\n",
    "    \"\"\"Given an Nx3 matrix of blob positions and size, \n",
    "    create N 32x32 images, each with a blob drawn on \n",
    "    them given by the value in each row of x\n",
    "    \n",
    "    One row of x = [x,y,radius].\"\"\"\n",
    "    y = np.zeros((x.shape[0], 32, 32))\n",
    "    for i,particle in enumerate(x):\n",
    "        rr,cc = skimage.draw.circle(particle[0], particle[1], \n",
    "                                    particle[2], shape=(32,32))\n",
    "        y[i,rr,cc] = 1\n",
    "    return y\n",
    "\n",
    "# very simple linear dynamcics: x += dx\n",
    "def velocity(x):\n",
    "    xp = np.array(x)\n",
    "    xp[0:2] += xp[3:5]\n",
    "    return xp\n",
    "        "
   ]
  },
  {
   "cell_type": "code",
   "execution_count": 32,
   "metadata": {
    "collapsed": false
   },
   "outputs": [
    {
     "ename": "KeyboardInterrupt",
     "evalue": "",
     "output_type": "error",
     "traceback": [
      "\u001b[1;31m---------------------------------------------------------------------------\u001b[0m",
      "\u001b[1;31mKeyboardInterrupt\u001b[0m                         Traceback (most recent call last)",
      "\u001b[1;32m<ipython-input-32-1bcd7d1f14f9>\u001b[0m in \u001b[0;36m<module>\u001b[1;34m()\u001b[0m\n\u001b[0;32m     58\u001b[0m \u001b[1;33m\u001b[0m\u001b[0m\n\u001b[0;32m     59\u001b[0m     \u001b[0mcv2\u001b[0m\u001b[1;33m.\u001b[0m\u001b[0mdestroyAllWindows\u001b[0m\u001b[1;33m(\u001b[0m\u001b[1;33m)\u001b[0m\u001b[1;33m\u001b[0m\u001b[0m\n\u001b[1;32m---> 60\u001b[1;33m \u001b[0mtest_filter\u001b[0m\u001b[1;33m(\u001b[0m\u001b[1;33m)\u001b[0m\u001b[1;33m\u001b[0m\u001b[0m\n\u001b[0m",
      "\u001b[1;32m<ipython-input-32-1bcd7d1f14f9>\u001b[0m in \u001b[0;36mtest_filter\u001b[1;34m()\u001b[0m\n\u001b[0;32m     53\u001b[0m \u001b[1;33m\u001b[0m\u001b[0m\n\u001b[0;32m     54\u001b[0m         \u001b[0mcv2\u001b[0m\u001b[1;33m.\u001b[0m\u001b[0mimshow\u001b[0m\u001b[1;33m(\u001b[0m\u001b[1;34m\"samples\"\u001b[0m\u001b[1;33m,\u001b[0m \u001b[0mcolor\u001b[0m\u001b[1;33m)\u001b[0m\u001b[1;33m\u001b[0m\u001b[0m\n\u001b[1;32m---> 55\u001b[1;33m         \u001b[0mcv2\u001b[0m\u001b[1;33m.\u001b[0m\u001b[0mwaitKey\u001b[0m\u001b[1;33m(\u001b[0m\u001b[1;36m20\u001b[0m\u001b[1;33m)\u001b[0m\u001b[1;33m\u001b[0m\u001b[0m\n\u001b[0m\u001b[0;32m     56\u001b[0m         \u001b[0mx\u001b[0m\u001b[1;33m+=\u001b[0m\u001b[0mdx\u001b[0m\u001b[1;33m\u001b[0m\u001b[0m\n\u001b[0;32m     57\u001b[0m         \u001b[0my\u001b[0m\u001b[1;33m+=\u001b[0m\u001b[0mdy\u001b[0m\u001b[1;33m\u001b[0m\u001b[0m\n",
      "\u001b[1;31mKeyboardInterrupt\u001b[0m: "
     ]
    }
   ],
   "source": [
    "# names (this is just for reference for the moment!)\n",
    "columns = [\"x\", \"y\", \"radius\", \"dx\", \"dy\"]\n",
    "# for specifying priors\n",
    "from scipy.stats import norm, gamma, uniform \n",
    "# priors for each variable\n",
    "priors = [uniform(loc=0, scale=32), \n",
    "          uniform(loc=0, scale=32), \n",
    "          gamma(a=2,loc=0,scale=10),\n",
    "          norm(loc=0, scale=0.5),\n",
    "          norm(loc=0, scale=0.5)]\n",
    "\n",
    "\n",
    "def test_filter():\n",
    "    # create the filter\n",
    "    pf = pfilter.ParticleFilter(priors=priors, \n",
    "                    inverse_fn=blob,\n",
    "                    n_particles=200,\n",
    "                    dynamics_fn=velocity,\n",
    "                    noise_fn=lambda x: \n",
    "                                pfilter.gaussian_noise(x, sigmas=[0.2, 0.2, 0.1, 0.05, 0.05]),\n",
    "                    weight_fn=lambda x,y:pfilter.squared_error(x, y,sigma=2),\n",
    "                    resample_proportion=0.1,\n",
    "                    column_names = columns)\n",
    "    \n",
    "    # start in centre, random radius\n",
    "    x,y,s = 16,16,np.random.uniform(2,8)\n",
    "    # random movement direction\n",
    "    dx = -0.2\n",
    "    #dx = np.random.uniform(-0.1,0.1)\n",
    "    dy = np.random.uniform(-0.1,0.1)    \n",
    "    cv2.namedWindow('img',cv2.WINDOW_NORMAL)\n",
    "    cv2.namedWindow('samples',cv2.WINDOW_NORMAL)\n",
    "    cv2.resizeWindow('img', 320,320)\n",
    "    cv2.resizeWindow('samples', 320,320)\n",
    "    for i in range(200):        \n",
    "        img = blob(np.array([[x,y,s]]))\n",
    "        pf.update(img)\n",
    "        cv2.imshow(\"img\", np.squeeze(img))\n",
    "        color = cv2.cvtColor(pf.mean_hypothesis.astype(np.float32), cv2.COLOR_GRAY2RGB)\n",
    "        x_hat,y_hat,s_hat,dx_hat,dy_hat = pf.mean_state\n",
    "        \n",
    "        # x,y exchange because of ordering between skimage and opencv\n",
    "        cv2.circle(color, (int(y_hat), int(x_hat)),\n",
    "                   int(s_hat), (0,1,0), 1)\n",
    "        \n",
    "        cv2.line(color, (int(y_hat), int(x_hat)),\n",
    "                        (int(y_hat+dy_hat*5), int(x_hat+dx_hat*5)),\n",
    "                        (0,0,1))\n",
    "        \n",
    "        cv2.imshow(\"samples\", color)        \n",
    "        cv2.waitKey(20)\n",
    "        x+=dx\n",
    "        y+=dy\n",
    "        \n",
    "    cv2.destroyAllWindows()\n",
    "test_filter()"
   ]
  },
  {
   "cell_type": "code",
   "execution_count": null,
   "metadata": {
    "collapsed": true
   },
   "outputs": [],
   "source": []
  },
  {
   "cell_type": "code",
   "execution_count": null,
   "metadata": {
    "collapsed": true
   },
   "outputs": [],
   "source": []
  }
 ],
 "metadata": {
  "kernelspec": {
   "display_name": "Python 2",
   "language": "python",
   "name": "python2"
  },
  "language_info": {
   "codemirror_mode": {
    "name": "ipython",
    "version": 2
   },
   "file_extension": ".py",
   "mimetype": "text/x-python",
   "name": "python",
   "nbconvert_exporter": "python",
   "pygments_lexer": "ipython2",
   "version": "2.7.12"
  }
 },
 "nbformat": 4,
 "nbformat_minor": 0
}
